{
  "nbformat": 4,
  "nbformat_minor": 0,
  "metadata": {
    "colab": {
      "name": "Malaria_Image classification.ipynb",
      "provenance": [],
      "collapsed_sections": [],
      "authorship_tag": "ABX9TyOnmYCHrXCrlYbB4ze8NKgb",
      "include_colab_link": true
    },
    "kernelspec": {
      "name": "python3",
      "display_name": "Python 3"
    },
    "language_info": {
      "name": "python"
    }
  },
  "cells": [
    {
      "cell_type": "markdown",
      "metadata": {
        "id": "view-in-github",
        "colab_type": "text"
      },
      "source": [
        "<a href=\"https://colab.research.google.com/github/abhi-11nav/Malaria_cell-Classification/blob/main/Malaria_Image_classification.ipynb\" target=\"_parent\"><img src=\"https://colab.research.google.com/assets/colab-badge.svg\" alt=\"Open In Colab\"/></a>"
      ]
    },
    {
      "cell_type": "code",
      "execution_count": 1,
      "metadata": {
        "id": "qM9Vcoqkr8g9"
      },
      "outputs": [],
      "source": [
        "# Importing libraries \n",
        "\n",
        "import pandas as pd \n",
        "import numpy as np    "
      ]
    },
    {
      "cell_type": "markdown",
      "source": [
        "\n",
        "\n",
        "# Data credits\n",
        "\n",
        "https://www.kaggle.com/datasets/iarunava/cell-images-for-detecting-malaria"
      ],
      "metadata": {
        "id": "ZZmiD2kJMA3z"
      }
    },
    {
      "cell_type": "code",
      "source": [
        "# Importing the libraries required for building a CNN model \n",
        "\n",
        "# Model building libraries\n",
        "import tensorflow \n",
        "from tensorflow import keras\n",
        "from tensorflow.keras.layers import Input, Dense, Flatten, Lambda\n",
        "from tensorflow.keras.models import Model\n",
        "\n",
        "# Image preprocessing libraries\n",
        "from tensorflow.keras.preprocessing import image\n",
        "from tensorflow.keras.preprocessing.image import ImageDataGenerator, load_img\n",
        "import glob as glob\n",
        "\n",
        "# Visualization and other libraries \n",
        "import numpy as np\n",
        "import matplotlib.pyplot as plt\n",
        "%matplotlib inline \n",
        "import seaborn as sns \n",
        "\n",
        "# Transfer learning technique library\n",
        "from tensorflow.keras.applications.vgg16 import VGG16"
      ],
      "metadata": {
        "id": "5YMAC4x5L-dp"
      },
      "execution_count": 2,
      "outputs": []
    },
    {
      "cell_type": "code",
      "source": [
        "# path of the data\n",
        "data_path = \"/content/drive/MyDrive/cell_images\"\n",
        "\n",
        "\n",
        "# Specifying the paths of the dataset \n",
        "\n",
        "import os\n",
        "\n",
        "parasitized = os.listdir(data_path+\"/Parasitized\")\n",
        "uninfected = os.listdir(data_path+\"/Uninfected\")\n",
        "\n",
        "# Length of folder containing images\n",
        "parasitized_len = len(parasitized)\n",
        "uninfected_len = len(uninfected)"
      ],
      "metadata": {
        "id": "nhGFIdtOL9AL"
      },
      "execution_count": 1,
      "outputs": []
    },
    {
      "cell_type": "code",
      "source": [
        "# Defining a function for Splitting the data\n",
        "\n",
        "import random \n",
        "\n",
        "def data_split(file_name, percentage):\n",
        "  total_image = len(file_name)\n",
        "  total_train = len(file_name)*percentage\n",
        "\n",
        "  training_set = []\n",
        "\n",
        "  while(len(training_set) != total_train):\n",
        "    num_img = random.randrange(total_image)\n",
        "    if num_img not in training_set:\n",
        "      training_set.append(num_img)\n",
        "\n",
        "  validation_set = []\n",
        "    \n",
        "  for i in range(total_image):\n",
        "    if i not in training_set:\n",
        "      validation_set.append(i)\n",
        "\n",
        "  training_images = []\n",
        "\n",
        "  for i in training_set:\n",
        "    training_set.append(file_name[i])\n",
        "\n",
        "  validation_images = []\n",
        "\n",
        "  for i in validation_set:\n",
        "    validation_images.append(file_name[i])\n",
        "\n",
        "  return training_images, validation_images "
      ],
      "metadata": {
        "id": "JGT63I3YOk4v"
      },
      "execution_count": 13,
      "outputs": []
    },
    {
      "cell_type": "code",
      "source": [
        "parasitized_train, parasitized_val = data_split(parasitized, 0.78) \n",
        "\n",
        "uninfected_train, uninfected_val =  data_split(uninfected, 0.78)"
      ],
      "metadata": {
        "colab": {
          "base_uri": "https://localhost:8080/",
          "height": 317
        },
        "id": "IbfzCdVlIvsr",
        "outputId": "fcb733f2-1e18-4ea1-a6f3-89a86efe2c25"
      },
      "execution_count": 14,
      "outputs": [
        {
          "output_type": "error",
          "ename": "KeyboardInterrupt",
          "evalue": "ignored",
          "traceback": [
            "\u001b[0;31m---------------------------------------------------------------------------\u001b[0m",
            "\u001b[0;31mKeyboardInterrupt\u001b[0m                         Traceback (most recent call last)",
            "\u001b[0;32m<ipython-input-14-764063170381>\u001b[0m in \u001b[0;36m<module>\u001b[0;34m()\u001b[0m\n\u001b[0;32m----> 1\u001b[0;31m \u001b[0mparasitized_train\u001b[0m\u001b[0;34m,\u001b[0m \u001b[0mparasitized_val\u001b[0m \u001b[0;34m=\u001b[0m \u001b[0mdata_split\u001b[0m\u001b[0;34m(\u001b[0m\u001b[0mparasitized\u001b[0m\u001b[0;34m,\u001b[0m \u001b[0;36m0.78\u001b[0m\u001b[0;34m)\u001b[0m\u001b[0;34m\u001b[0m\u001b[0;34m\u001b[0m\u001b[0m\n\u001b[0m\u001b[1;32m      2\u001b[0m \u001b[0;34m\u001b[0m\u001b[0m\n\u001b[1;32m      3\u001b[0m \u001b[0muninfected_train\u001b[0m\u001b[0;34m,\u001b[0m \u001b[0muninfected_val\u001b[0m \u001b[0;34m=\u001b[0m  \u001b[0mdata_split\u001b[0m\u001b[0;34m(\u001b[0m\u001b[0muninfected\u001b[0m\u001b[0;34m,\u001b[0m \u001b[0;36m0.78\u001b[0m\u001b[0;34m)\u001b[0m\u001b[0;34m\u001b[0m\u001b[0;34m\u001b[0m\u001b[0m\n",
            "\u001b[0;32m<ipython-input-13-53ccb32d4c2c>\u001b[0m in \u001b[0;36mdata_split\u001b[0;34m(file_name, percentage)\u001b[0m\n\u001b[1;32m     11\u001b[0m   \u001b[0;32mwhile\u001b[0m\u001b[0;34m(\u001b[0m\u001b[0mlen\u001b[0m\u001b[0;34m(\u001b[0m\u001b[0mtraining_set\u001b[0m\u001b[0;34m)\u001b[0m \u001b[0;34m!=\u001b[0m \u001b[0mtotal_train\u001b[0m\u001b[0;34m)\u001b[0m\u001b[0;34m:\u001b[0m\u001b[0;34m\u001b[0m\u001b[0;34m\u001b[0m\u001b[0m\n\u001b[1;32m     12\u001b[0m     \u001b[0mnum_img\u001b[0m \u001b[0;34m=\u001b[0m \u001b[0mrandom\u001b[0m\u001b[0;34m.\u001b[0m\u001b[0mrandrange\u001b[0m\u001b[0;34m(\u001b[0m\u001b[0mtotal_image\u001b[0m\u001b[0;34m)\u001b[0m\u001b[0;34m\u001b[0m\u001b[0;34m\u001b[0m\u001b[0m\n\u001b[0;32m---> 13\u001b[0;31m     \u001b[0;32mif\u001b[0m \u001b[0mnum_img\u001b[0m \u001b[0;32mnot\u001b[0m \u001b[0;32min\u001b[0m \u001b[0mtraining_set\u001b[0m\u001b[0;34m:\u001b[0m\u001b[0;34m\u001b[0m\u001b[0;34m\u001b[0m\u001b[0m\n\u001b[0m\u001b[1;32m     14\u001b[0m       \u001b[0mtraining_set\u001b[0m\u001b[0;34m.\u001b[0m\u001b[0mappend\u001b[0m\u001b[0;34m(\u001b[0m\u001b[0mnum_img\u001b[0m\u001b[0;34m)\u001b[0m\u001b[0;34m\u001b[0m\u001b[0;34m\u001b[0m\u001b[0m\n\u001b[1;32m     15\u001b[0m \u001b[0;34m\u001b[0m\u001b[0m\n",
            "\u001b[0;31mKeyboardInterrupt\u001b[0m: "
          ]
        }
      ]
    },
    {
      "cell_type": "code",
      "source": [
        ""
      ],
      "metadata": {
        "id": "TJbAy_hePInL"
      },
      "execution_count": null,
      "outputs": []
    }
  ]
}